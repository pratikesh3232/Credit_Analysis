{
 "cells": [
  {
   "cell_type": "code",
   "execution_count": 12,
   "id": "be25ad94",
   "metadata": {
    "_cell_guid": "fc129e0b-fbb4-4be5-8b36-c4c4dbf2d6fb",
    "_uuid": "28b2e0ef-bb61-4b89-8570-5021a69b36bd",
    "collapsed": false,
    "execution": {
     "iopub.execute_input": "2024-12-04T23:47:18.102158Z",
     "iopub.status.busy": "2024-12-04T23:47:18.101703Z",
     "iopub.status.idle": "2024-12-04T23:47:19.052214Z",
     "shell.execute_reply": "2024-12-04T23:47:19.050984Z"
    },
    "jupyter": {
     "outputs_hidden": false
    },
    "papermill": {
     "duration": 0.959298,
     "end_time": "2024-12-04T23:47:19.054609",
     "exception": false,
     "start_time": "2024-12-04T23:47:18.095311",
     "status": "completed"
    },
    "tags": []
   },
   "outputs": [],
   "source": [
    "import numpy as np # linear algebra\n",
    "import pandas as pd # data processing, CSV file I/O (e.g. pd.read_csv)"
   ]
  },
  {
   "cell_type": "code",
   "execution_count": 13,
   "id": "77399e0f",
   "metadata": {
    "execution": {
     "iopub.execute_input": "2024-12-04T23:47:19.066419Z",
     "iopub.status.busy": "2024-12-04T23:47:19.065380Z",
     "iopub.status.idle": "2024-12-04T23:47:20.144480Z",
     "shell.execute_reply": "2024-12-04T23:47:20.143292Z"
    },
    "papermill": {
     "duration": 1.08691,
     "end_time": "2024-12-04T23:47:20.146899",
     "exception": false,
     "start_time": "2024-12-04T23:47:19.059989",
     "status": "completed"
    },
    "tags": []
   },
   "outputs": [
    {
     "data": {
      "text/html": [
       "<div>\n",
       "<style scoped>\n",
       "    .dataframe tbody tr th:only-of-type {\n",
       "        vertical-align: middle;\n",
       "    }\n",
       "\n",
       "    .dataframe tbody tr th {\n",
       "        vertical-align: top;\n",
       "    }\n",
       "\n",
       "    .dataframe thead th {\n",
       "        text-align: right;\n",
       "    }\n",
       "</style>\n",
       "<table border=\"1\" class=\"dataframe\">\n",
       "  <thead>\n",
       "    <tr style=\"text-align: right;\">\n",
       "      <th></th>\n",
       "      <th>Age</th>\n",
       "      <th>Gender</th>\n",
       "      <th>Income</th>\n",
       "      <th>Credit Score</th>\n",
       "      <th>Credit History Length</th>\n",
       "      <th>Number of Existing Loans</th>\n",
       "      <th>Loan Amount</th>\n",
       "      <th>Loan Tenure</th>\n",
       "      <th>Existing Customer</th>\n",
       "      <th>State</th>\n",
       "      <th>City</th>\n",
       "      <th>LTV Ratio</th>\n",
       "      <th>Employment Profile</th>\n",
       "      <th>Profile Score</th>\n",
       "      <th>Occupation</th>\n",
       "    </tr>\n",
       "  </thead>\n",
       "  <tbody>\n",
       "    <tr>\n",
       "      <th>0</th>\n",
       "      <td>31</td>\n",
       "      <td>Male</td>\n",
       "      <td>36000</td>\n",
       "      <td>604</td>\n",
       "      <td>487</td>\n",
       "      <td>5</td>\n",
       "      <td>109373</td>\n",
       "      <td>221</td>\n",
       "      <td>No</td>\n",
       "      <td>Karnataka</td>\n",
       "      <td>Mysuru</td>\n",
       "      <td>90.943430</td>\n",
       "      <td>Salaried</td>\n",
       "      <td>77</td>\n",
       "      <td>Doctor</td>\n",
       "    </tr>\n",
       "    <tr>\n",
       "      <th>1</th>\n",
       "      <td>25</td>\n",
       "      <td>Male</td>\n",
       "      <td>50000</td>\n",
       "      <td>447</td>\n",
       "      <td>386</td>\n",
       "      <td>2</td>\n",
       "      <td>150000</td>\n",
       "      <td>89</td>\n",
       "      <td>No</td>\n",
       "      <td>Karnataka</td>\n",
       "      <td>Bengaluru</td>\n",
       "      <td>91.135253</td>\n",
       "      <td>Salaried</td>\n",
       "      <td>43</td>\n",
       "      <td>Software Engineer</td>\n",
       "    </tr>\n",
       "    <tr>\n",
       "      <th>2</th>\n",
       "      <td>62</td>\n",
       "      <td>Other</td>\n",
       "      <td>178000</td>\n",
       "      <td>850</td>\n",
       "      <td>503</td>\n",
       "      <td>10</td>\n",
       "      <td>69099</td>\n",
       "      <td>110</td>\n",
       "      <td>Yes</td>\n",
       "      <td>Uttar Pradesh</td>\n",
       "      <td>Kanpur</td>\n",
       "      <td>40.000000</td>\n",
       "      <td>Salaried</td>\n",
       "      <td>90</td>\n",
       "      <td>Banker</td>\n",
       "    </tr>\n",
       "    <tr>\n",
       "      <th>3</th>\n",
       "      <td>69</td>\n",
       "      <td>Female</td>\n",
       "      <td>46000</td>\n",
       "      <td>668</td>\n",
       "      <td>349</td>\n",
       "      <td>6</td>\n",
       "      <td>150000</td>\n",
       "      <td>148</td>\n",
       "      <td>Yes</td>\n",
       "      <td>Karnataka</td>\n",
       "      <td>Bengaluru</td>\n",
       "      <td>87.393365</td>\n",
       "      <td>Self-Employed</td>\n",
       "      <td>86</td>\n",
       "      <td>Contractor</td>\n",
       "    </tr>\n",
       "    <tr>\n",
       "      <th>4</th>\n",
       "      <td>52</td>\n",
       "      <td>Male</td>\n",
       "      <td>132000</td>\n",
       "      <td>601</td>\n",
       "      <td>553</td>\n",
       "      <td>5</td>\n",
       "      <td>150000</td>\n",
       "      <td>157</td>\n",
       "      <td>No</td>\n",
       "      <td>Karnataka</td>\n",
       "      <td>Mysuru</td>\n",
       "      <td>66.158757</td>\n",
       "      <td>Salaried</td>\n",
       "      <td>90</td>\n",
       "      <td>Teacher</td>\n",
       "    </tr>\n",
       "  </tbody>\n",
       "</table>\n",
       "</div>"
      ],
      "text/plain": [
       "   Age  Gender  Income  Credit Score  Credit History Length  \\\n",
       "0   31    Male   36000           604                    487   \n",
       "1   25    Male   50000           447                    386   \n",
       "2   62   Other  178000           850                    503   \n",
       "3   69  Female   46000           668                    349   \n",
       "4   52    Male  132000           601                    553   \n",
       "\n",
       "   Number of Existing Loans  Loan Amount  Loan Tenure Existing Customer  \\\n",
       "0                         5       109373          221                No   \n",
       "1                         2       150000           89                No   \n",
       "2                        10        69099          110               Yes   \n",
       "3                         6       150000          148               Yes   \n",
       "4                         5       150000          157                No   \n",
       "\n",
       "           State       City  LTV Ratio Employment Profile  Profile Score  \\\n",
       "0      Karnataka     Mysuru  90.943430           Salaried             77   \n",
       "1      Karnataka  Bengaluru  91.135253           Salaried             43   \n",
       "2  Uttar Pradesh     Kanpur  40.000000           Salaried             90   \n",
       "3      Karnataka  Bengaluru  87.393365      Self-Employed             86   \n",
       "4      Karnataka     Mysuru  66.158757           Salaried             90   \n",
       "\n",
       "          Occupation  \n",
       "0             Doctor  \n",
       "1  Software Engineer  \n",
       "2             Banker  \n",
       "3         Contractor  \n",
       "4            Teacher  "
      ]
     },
     "execution_count": 13,
     "metadata": {},
     "output_type": "execute_result"
    }
   ],
   "source": [
    "df = pd.read_csv(\"DataSet/credit_data.csv\")\n",
    "df.head()"
   ]
  },
  {
   "cell_type": "code",
   "execution_count": 26,
   "id": "704f65c5",
   "metadata": {},
   "outputs": [
    {
     "data": {
      "text/plain": [
       "array(['Doctor', 'Software Engineer', 'Banker', 'Contractor', 'Teacher',\n",
       "       'Farmer', 'Writer', 'Shopkeeper', 'Photographer', 'Student',\n",
       "       'Civil Servant', nan, 'Independent Consultant', 'Graphic Designer',\n",
       "       'Business Owner'], dtype=object)"
      ]
     },
     "execution_count": 26,
     "metadata": {},
     "output_type": "execute_result"
    }
   ],
   "source": [
    "df['Occupation'].unique()"
   ]
  },
  {
   "cell_type": "code",
   "execution_count": 3,
   "id": "fa7ecaae",
   "metadata": {
    "execution": {
     "iopub.execute_input": "2024-12-04T23:47:20.249641Z",
     "iopub.status.busy": "2024-12-04T23:47:20.249218Z",
     "iopub.status.idle": "2024-12-04T23:47:20.255695Z",
     "shell.execute_reply": "2024-12-04T23:47:20.254383Z"
    },
    "papermill": {
     "duration": 0.015018,
     "end_time": "2024-12-04T23:47:20.258337",
     "exception": false,
     "start_time": "2024-12-04T23:47:20.243319",
     "status": "completed"
    },
    "tags": []
   },
   "outputs": [],
   "source": [
    "num = int(0.9*df.shape[0])\n",
    "train = df[:num]\n",
    "test = df[num:]\n",
    "sample_submission=''\n",
    "scoring_parameter = 'balanced-accuracy'\n",
    "target = 'Credit Score'"
   ]
  },
  {
   "cell_type": "code",
   "execution_count": null,
   "id": "e750abfe",
   "metadata": {
    "execution": {
     "iopub.execute_input": "2024-12-04T23:47:20.288773Z",
     "iopub.status.busy": "2024-12-04T23:47:20.288353Z",
     "iopub.status.idle": "2024-12-04T23:48:27.922172Z",
     "shell.execute_reply": "2024-12-04T23:48:27.920382Z"
    },
    "papermill": {
     "duration": 67.643899,
     "end_time": "2024-12-04T23:48:27.926037",
     "exception": false,
     "start_time": "2024-12-04T23:47:20.282138",
     "status": "completed"
    },
    "tags": []
   },
   "outputs": [],
   "source": [
    "#!pip install autogluon"
   ]
  },
  {
   "cell_type": "code",
   "execution_count": 4,
   "id": "160a4278",
   "metadata": {
    "execution": {
     "iopub.execute_input": "2024-12-04T23:48:27.963060Z",
     "iopub.status.busy": "2024-12-04T23:48:27.962612Z",
     "iopub.status.idle": "2024-12-05T00:05:31.504148Z",
     "shell.execute_reply": "2024-12-05T00:05:31.502743Z"
    },
    "papermill": {
     "duration": 1023.563397,
     "end_time": "2024-12-05T00:05:31.507364",
     "exception": false,
     "start_time": "2024-12-04T23:48:27.943967",
     "status": "completed"
    },
    "tags": []
   },
   "outputs": [
    {
     "name": "stderr",
     "output_type": "stream",
     "text": [
      "/workspaces/Credit_Score_Analysis/.venv/lib/python3.11/site-packages/tqdm/auto.py:21: TqdmWarning: IProgress not found. Please update jupyter and ipywidgets. See https://ipywidgets.readthedocs.io/en/stable/user_install.html\n",
      "  from .autonotebook import tqdm as notebook_tqdm\n",
      "No path specified. Models will be saved in: \"AutogluonModels/ag-20241205_062650\"\n",
      "AutoGluon infers your prediction problem is: 'multiclass' (because dtype of label-column == int, but few unique label-values observed).\n",
      "\tIf 'multiclass' is not the correct problem_type, please manually specify the problem_type parameter during Predictor init (You may specify problem_type as one of: ['binary', 'multiclass', 'regression', 'quantile'])\n"
     ]
    }
   ],
   "source": [
    "from autogluon.tabular import TabularDataset, TabularPredictor\n",
    "\n",
    "train_data = TabularDataset(train)\n",
    "test_data = TabularDataset(test)\n",
    "\n",
    "predictor = TabularPredictor(label='Credit Score').fit(train_data=train_data,time_limit= 1000,verbosity=1)\n",
    "predictions = predictor.predict(test_data)"
   ]
  },
  {
   "cell_type": "code",
   "execution_count": 23,
   "id": "d442e6eb",
   "metadata": {
    "execution": {
     "iopub.execute_input": "2024-12-05T00:05:31.545349Z",
     "iopub.status.busy": "2024-12-05T00:05:31.544178Z",
     "iopub.status.idle": "2024-12-05T00:05:31.565455Z",
     "shell.execute_reply": "2024-12-05T00:05:31.564333Z"
    },
    "papermill": {
     "duration": 0.041925,
     "end_time": "2024-12-05T00:05:31.567673",
     "exception": false,
     "start_time": "2024-12-05T00:05:31.525748",
     "status": "completed"
    },
    "tags": []
   },
   "outputs": [
    {
     "data": {
      "text/html": [
       "<div>\n",
       "<style scoped>\n",
       "    .dataframe tbody tr th:only-of-type {\n",
       "        vertical-align: middle;\n",
       "    }\n",
       "\n",
       "    .dataframe tbody tr th {\n",
       "        vertical-align: top;\n",
       "    }\n",
       "\n",
       "    .dataframe thead th {\n",
       "        text-align: right;\n",
       "    }\n",
       "</style>\n",
       "<table border=\"1\" class=\"dataframe\">\n",
       "  <thead>\n",
       "    <tr style=\"text-align: right;\">\n",
       "      <th></th>\n",
       "      <th>model</th>\n",
       "      <th>score_val</th>\n",
       "      <th>eval_metric</th>\n",
       "      <th>pred_time_val</th>\n",
       "      <th>fit_time</th>\n",
       "      <th>pred_time_val_marginal</th>\n",
       "      <th>fit_time_marginal</th>\n",
       "      <th>stack_level</th>\n",
       "      <th>can_infer</th>\n",
       "      <th>fit_order</th>\n",
       "    </tr>\n",
       "  </thead>\n",
       "  <tbody>\n",
       "    <tr>\n",
       "      <th>0</th>\n",
       "      <td>WeightedEnsemble_L2</td>\n",
       "      <td>0.973799</td>\n",
       "      <td>accuracy</td>\n",
       "      <td>0.358774</td>\n",
       "      <td>842.007307</td>\n",
       "      <td>0.006421</td>\n",
       "      <td>1.168385</td>\n",
       "      <td>2</td>\n",
       "      <td>True</td>\n",
       "      <td>5</td>\n",
       "    </tr>\n",
       "    <tr>\n",
       "      <th>1</th>\n",
       "      <td>KNeighborsDist</td>\n",
       "      <td>0.972211</td>\n",
       "      <td>accuracy</td>\n",
       "      <td>0.052982</td>\n",
       "      <td>2.143485</td>\n",
       "      <td>0.052982</td>\n",
       "      <td>2.143485</td>\n",
       "      <td>1</td>\n",
       "      <td>True</td>\n",
       "      <td>2</td>\n",
       "    </tr>\n",
       "    <tr>\n",
       "      <th>2</th>\n",
       "      <td>NeuralNetFastAI</td>\n",
       "      <td>0.291782</td>\n",
       "      <td>accuracy</td>\n",
       "      <td>0.299371</td>\n",
       "      <td>838.695437</td>\n",
       "      <td>0.299371</td>\n",
       "      <td>838.695437</td>\n",
       "      <td>1</td>\n",
       "      <td>True</td>\n",
       "      <td>3</td>\n",
       "    </tr>\n",
       "    <tr>\n",
       "      <th>3</th>\n",
       "      <td>KNeighborsUnif</td>\n",
       "      <td>0.155220</td>\n",
       "      <td>accuracy</td>\n",
       "      <td>0.052900</td>\n",
       "      <td>5.604825</td>\n",
       "      <td>0.052900</td>\n",
       "      <td>5.604825</td>\n",
       "      <td>1</td>\n",
       "      <td>True</td>\n",
       "      <td>1</td>\n",
       "    </tr>\n",
       "    <tr>\n",
       "      <th>4</th>\n",
       "      <td>LightGBMXT</td>\n",
       "      <td>0.115125</td>\n",
       "      <td>accuracy</td>\n",
       "      <td>0.236975</td>\n",
       "      <td>157.205402</td>\n",
       "      <td>0.236975</td>\n",
       "      <td>157.205402</td>\n",
       "      <td>1</td>\n",
       "      <td>True</td>\n",
       "      <td>4</td>\n",
       "    </tr>\n",
       "  </tbody>\n",
       "</table>\n",
       "</div>"
      ],
      "text/plain": [
       "                 model  score_val eval_metric  pred_time_val    fit_time  \\\n",
       "0  WeightedEnsemble_L2   0.973799    accuracy       0.358774  842.007307   \n",
       "1       KNeighborsDist   0.972211    accuracy       0.052982    2.143485   \n",
       "2      NeuralNetFastAI   0.291782    accuracy       0.299371  838.695437   \n",
       "3       KNeighborsUnif   0.155220    accuracy       0.052900    5.604825   \n",
       "4           LightGBMXT   0.115125    accuracy       0.236975  157.205402   \n",
       "\n",
       "   pred_time_val_marginal  fit_time_marginal  stack_level  can_infer  \\\n",
       "0                0.006421           1.168385            2       True   \n",
       "1                0.052982           2.143485            1       True   \n",
       "2                0.299371         838.695437            1       True   \n",
       "3                0.052900           5.604825            1       True   \n",
       "4                0.236975         157.205402            1       True   \n",
       "\n",
       "   fit_order  \n",
       "0          5  \n",
       "1          2  \n",
       "2          3  \n",
       "3          1  \n",
       "4          4  "
      ]
     },
     "execution_count": 23,
     "metadata": {},
     "output_type": "execute_result"
    }
   ],
   "source": [
    "predictor.leaderboard()"
   ]
  },
  {
   "cell_type": "code",
   "execution_count": null,
   "id": "f5e81ce9",
   "metadata": {
    "execution": {
     "iopub.execute_input": "2024-12-05T00:05:31.604566Z",
     "iopub.status.busy": "2024-12-05T00:05:31.604186Z",
     "iopub.status.idle": "2024-12-05T00:05:32.827998Z",
     "shell.execute_reply": "2024-12-05T00:05:32.826880Z"
    },
    "papermill": {
     "duration": 1.245444,
     "end_time": "2024-12-05T00:05:32.830301",
     "exception": false,
     "start_time": "2024-12-05T00:05:31.584857",
     "status": "completed"
    },
    "tags": []
   },
   "outputs": [],
   "source": [
    "predictor.fit_summary(show_plot=True)"
   ]
  },
  {
   "cell_type": "code",
   "execution_count": 14,
   "id": "05a4591c",
   "metadata": {
    "execution": {
     "iopub.execute_input": "2024-12-05T00:05:32.867706Z",
     "iopub.status.busy": "2024-12-05T00:05:32.867315Z",
     "iopub.status.idle": "2024-12-05T00:05:32.872035Z",
     "shell.execute_reply": "2024-12-05T00:05:32.870882Z"
    },
    "papermill": {
     "duration": 0.025706,
     "end_time": "2024-12-05T00:05:32.874052",
     "exception": false,
     "start_time": "2024-12-05T00:05:32.848346",
     "status": "completed"
    },
    "tags": []
   },
   "outputs": [],
   "source": [
    "#!pip install bokeh"
   ]
  },
  {
   "cell_type": "code",
   "execution_count": 22,
   "id": "93d8d092",
   "metadata": {
    "execution": {
     "iopub.execute_input": "2024-12-05T00:05:32.911619Z",
     "iopub.status.busy": "2024-12-05T00:05:32.911233Z",
     "iopub.status.idle": "2024-12-05T00:05:43.209527Z",
     "shell.execute_reply": "2024-12-05T00:05:43.208346Z"
    },
    "papermill": {
     "duration": 10.319807,
     "end_time": "2024-12-05T00:05:43.211694",
     "exception": false,
     "start_time": "2024-12-05T00:05:32.891887",
     "status": "completed"
    },
    "tags": []
   },
   "outputs": [
    {
     "data": {
      "text/plain": [
       "{'accuracy': 0.9751304223540341,\n",
       " 'balanced_accuracy': 0.9731130790798193,\n",
       " 'mcc': 0.9749721440832738}"
      ]
     },
     "execution_count": 22,
     "metadata": {},
     "output_type": "execute_result"
    }
   ],
   "source": [
    "predictor.evaluate(test_data)"
   ]
  },
  {
   "cell_type": "code",
   "execution_count": 28,
   "id": "30427b8f",
   "metadata": {
    "execution": {
     "iopub.execute_input": "2024-12-05T00:05:43.251001Z",
     "iopub.status.busy": "2024-12-05T00:05:43.250578Z",
     "iopub.status.idle": "2024-12-05T00:05:43.432595Z",
     "shell.execute_reply": "2024-12-05T00:05:43.431663Z"
    },
    "papermill": {
     "duration": 0.20336,
     "end_time": "2024-12-05T00:05:43.434931",
     "exception": false,
     "start_time": "2024-12-05T00:05:43.231571",
     "status": "completed"
    },
    "tags": []
   },
   "outputs": [],
   "source": [
    "import pickle\n",
    "\n",
    "\n",
    "# Unpickling the object\n",
    "try:\n",
    "    with open('/workspaces/Credit_Score_Analysis/AutogluonModels/ag-20241205_062650/predictor.pkl', 'rb') as file:\n",
    "        data1 = pickle.load(file)\n",
    "except FileNotFoundError:\n",
    "    print(\"Pickle file not found.\")\n",
    "except pickle.UnpicklingError:\n",
    "    print(\"Error occurred while unpickling the file.\")\n"
   ]
  },
  {
   "cell_type": "code",
   "execution_count": 30,
   "id": "d249d64b",
   "metadata": {},
   "outputs": [
    {
     "ename": "AttributeError",
     "evalue": "'TabularPredictor' object has no attribute 'head'",
     "output_type": "error",
     "traceback": [
      "\u001b[0;31m---------------------------------------------------------------------------\u001b[0m",
      "\u001b[0;31mAttributeError\u001b[0m                            Traceback (most recent call last)",
      "\u001b[1;32m/workspaces/Credit_Score_Analysis/notebookb13a999c87.ipynb Cell 12\u001b[0m line \u001b[0;36m1\n\u001b[0;32m----> <a href='vscode-notebook-cell://pratikesh3232-credit-sco-jrur3ofn3r.app.codeanywhere.com/workspaces/Credit_Score_Analysis/notebookb13a999c87.ipynb#X13sdnNjb2RlLXJlbW90ZQ%3D%3D?line=0'>1</a>\u001b[0m data1\u001b[39m.\u001b[39;49mhead()\n",
      "\u001b[0;31mAttributeError\u001b[0m: 'TabularPredictor' object has no attribute 'head'"
     ]
    }
   ],
   "source": [
    "data1.head()"
   ]
  },
  {
   "cell_type": "code",
   "execution_count": 37,
   "id": "e96a9a75",
   "metadata": {},
   "outputs": [
    {
     "data": {
      "text/plain": [
       "88640     173\n",
       "60616     381\n",
       "12654      49\n",
       "92987      96\n",
       "141103     60\n",
       "Name: Credit Score, dtype: uint16"
      ]
     },
     "execution_count": 37,
     "metadata": {},
     "output_type": "execute_result"
    }
   ],
   "source": [
    "data.head()"
   ]
  },
  {
   "cell_type": "code",
   "execution_count": 35,
   "id": "cf60017c",
   "metadata": {
    "execution": {
     "iopub.execute_input": "2024-12-05T00:05:43.472826Z",
     "iopub.status.busy": "2024-12-05T00:05:43.472388Z",
     "iopub.status.idle": "2024-12-05T00:05:43.489022Z",
     "shell.execute_reply": "2024-12-05T00:05:43.487881Z"
    },
    "papermill": {
     "duration": 0.038132,
     "end_time": "2024-12-05T00:05:43.491123",
     "exception": false,
     "start_time": "2024-12-05T00:05:43.452991",
     "status": "completed"
    },
    "tags": []
   },
   "outputs": [
    {
     "data": {
      "text/plain": [
       "Index(['Age', 'Income', 'Credit History Length', 'Number of Existing Loans',\n",
       "       'Loan Amount', 'Loan Tenure', 'Existing Customer', 'LTV Ratio',\n",
       "       'Profile Score', 'Gender', 'State', 'City', 'Employment Profile',\n",
       "       'Occupation'],\n",
       "      dtype='object')"
      ]
     },
     "execution_count": 35,
     "metadata": {},
     "output_type": "execute_result"
    }
   ],
   "source": [
    "data.columns"
   ]
  },
  {
   "cell_type": "code",
   "execution_count": null,
   "id": "7b07c0d6",
   "metadata": {
    "papermill": {
     "duration": 0.017993,
     "end_time": "2024-12-05T00:05:43.527282",
     "exception": false,
     "start_time": "2024-12-05T00:05:43.509289",
     "status": "completed"
    },
    "tags": []
   },
   "outputs": [],
   "source": []
  }
 ],
 "metadata": {
  "kaggle": {
   "accelerator": "none",
   "dataSources": [
    {
     "datasetId": 6196656,
     "sourceId": 10056313,
     "sourceType": "datasetVersion"
    },
    {
     "datasetId": 6227530,
     "sourceId": 10097670,
     "sourceType": "datasetVersion"
    }
   ],
   "dockerImageVersionId": 30786,
   "isGpuEnabled": false,
   "isInternetEnabled": true,
   "language": "python",
   "sourceType": "notebook"
  },
  "kernelspec": {
   "display_name": "Python 3",
   "language": "python",
   "name": "python3"
  },
  "language_info": {
   "codemirror_mode": {
    "name": "ipython",
    "version": 3
   },
   "file_extension": ".py",
   "mimetype": "text/x-python",
   "name": "python",
   "nbconvert_exporter": "python",
   "pygments_lexer": "ipython3",
   "version": "3.11.0rc1"
  },
  "papermill": {
   "default_parameters": {},
   "duration": 1111.508159,
   "end_time": "2024-12-05T00:05:46.168392",
   "environment_variables": {},
   "exception": null,
   "input_path": "__notebook__.ipynb",
   "output_path": "__notebook__.ipynb",
   "parameters": {},
   "start_time": "2024-12-04T23:47:14.660233",
   "version": "2.6.0"
  }
 },
 "nbformat": 4,
 "nbformat_minor": 5
}
